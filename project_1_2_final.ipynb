{
  "nbformat": 4,
  "nbformat_minor": 0,
  "metadata": {
    "colab": {
      "name": "project_1_2_final.ipynb",
      "provenance": [],
      "collapsed_sections": [],
      "include_colab_link": true
    },
    "kernelspec": {
      "display_name": "Python 3",
      "name": "python3"
    }
  },
  "cells": [
    {
      "cell_type": "markdown",
      "metadata": {
        "id": "view-in-github",
        "colab_type": "text"
      },
      "source": [
        "<a href=\"https://colab.research.google.com/github/rhushikeshprabhune/Terrain-Identification-using-Deep-Neural-Networks/blob/main/project_1_2_final.ipynb\" target=\"_parent\"><img src=\"https://colab.research.google.com/assets/colab-badge.svg\" alt=\"Open In Colab\"/></a>"
      ]
    },
    {
      "cell_type": "markdown",
      "metadata": {
        "id": "akmy2LKbqSII"
      },
      "source": [
        "# ReadMe\n",
        "The standard set of tools to develop the deep learning models included numpy,keras, tensorflow, pandas, sklearn. The os module in python was used to read data from the files and append it to a list. The labels are converted into one-hot encoding using to_categorical function from keras. The precision, recall and F1 score for test data was calculated using metrics provided by sklearn."
      ]
    },
    {
      "cell_type": "markdown",
      "metadata": {
        "id": "CoQdMm84FcHA"
      },
      "source": [
        "# Reading in the data\n"
      ]
    },
    {
      "cell_type": "code",
      "metadata": {
        "id": "ngTM-Q--CpEP"
      },
      "source": [
        "from __future__ import print_function\n",
        "import collections\n",
        "import tensorflow as tf\n",
        "import matplotlib.pyplot as plt\n",
        "import numpy as np\n",
        "import pandas as pd\n",
        "import os\n",
        "from keras.models import Sequential, load_model\n",
        "from keras.layers import Dense, Activation, Embedding, Dropout, TimeDistributed, Conv1D, Flatten, Input, MaxPooling1D\n",
        "from keras.layers import LSTM, LSTM, SimpleRNN, GRU, Bidirectional\n",
        "from keras.utils import to_categorical\n",
        "from keras.callbacks import ModelCheckpoint\n",
        "from sklearn.model_selection import StratifiedKFold, KFold\n",
        "from keras.optimizers import SGD, Adam, RMSprop\n",
        "from sklearn.metrics import precision_recall_fscore_support"
      ],
      "execution_count": null,
      "outputs": []
    },
    {
      "cell_type": "code",
      "metadata": {
        "id": "sKx4-wkKH9jT",
        "outputId": "3238a982-b9ef-4ddc-f4b2-0c17169ad7fc",
        "colab": {
          "base_uri": "https://localhost:8080/"
        }
      },
      "source": [
        "from google.colab import drive\n",
        "drive.mount('/content/drive')"
      ],
      "execution_count": null,
      "outputs": [
        {
          "output_type": "stream",
          "text": [
            "Drive already mounted at /content/drive; to attempt to forcibly remount, call drive.mount(\"/content/drive\", force_remount=True).\n"
          ],
          "name": "stdout"
        }
      ]
    },
    {
      "cell_type": "markdown",
      "metadata": {
        "id": "Kz6y9_rBRXNZ"
      },
      "source": [
        "# Dumping data into input arrays\n",
        "1) Define and populate array for labels\n",
        "\n",
        "2) Define and populate array for accl and gyro inputs\n",
        "\n",
        "3) Compare two temps and trim bigger one"
      ]
    },
    {
      "cell_type": "code",
      "metadata": {
        "id": "3ugKuUTUybgE",
        "outputId": "c737dfb4-a876-4bed-f824-fd8a8fc9655b",
        "colab": {
          "base_uri": "https://localhost:8080/"
        }
      },
      "source": [
        "trainY = np.zeros([0])\n",
        "frame_size=36\n",
        "trainX = np.zeros([0,frame_size,6])\n",
        "lst=os.listdir('/content/drive/My Drive/ECE542_fa20_Project_TerrainRecognition/TrainingData')\n",
        "lst.sort()\n",
        "flag=0\n",
        "for f_name in lst:\n",
        "  # label append\n",
        "  if f_name not in [\"subject_007_01__x.csv\",\"subject_007_01__y.csv\",\"subject_008_01__x.csv\",\"subject_008_01__y.csv\"]:\n",
        "    if f_name.endswith('__y.csv'):\n",
        "      tempY = np.genfromtxt(\"/content/drive/My Drive/ECE542_fa20_Project_TerrainRecognition/TrainingData/\"+f_name, delimiter=',')\n",
        "      np.set_printoptions(suppress=True)\n",
        "      tempY2=tempY[2::frame_size//4]\n",
        "      trainY = np.append(trainY,tempY2)\n",
        "      flag=1\n",
        "    # input append\n",
        "    if f_name.endswith('__x.csv'):\n",
        "      tempX = np.genfromtxt(\"/content/drive/My Drive/ECE542_fa20_Project_TerrainRecognition/TrainingData/\"+f_name, delimiter=',')\n",
        "      tempX2=tempX[5:]\n",
        "      X_train_final=np.empty((tempX2.shape[0]//frame_size,frame_size,6))\n",
        "      for i in range(0, len(tempX2)):\n",
        "        if(frame_size*i+frame_size<len(tempX2)):\n",
        "          X_train_final[i] = tempX2[frame_size*i:frame_size*i+frame_size,:]\n",
        "      trainX = np.append(trainX,X_train_final,axis=0)\n",
        "    # compare and trim\n",
        "    if flag==1:\n",
        "      flag=0\n",
        "      smallerLen = min(len(trainY), len(trainX))\n",
        "      trainY = trainY[0: smallerLen]\n",
        "      trainX = trainX[0: smallerLen, :]\n",
        "\n",
        "print(\"Class 0: \",np.count_nonzero(trainY == 0))\n",
        "print(\"Class 1: \",np.count_nonzero(trainY == 1))\n",
        "print(\"Class 2: \",np.count_nonzero(trainY == 2))\n",
        "print(\"Class 3: \",np.count_nonzero(trainY == 3))"
      ],
      "execution_count": null,
      "outputs": [
        {
          "output_type": "stream",
          "text": [
            "Class 0:  25973\n",
            "Class 1:  1476\n",
            "Class 2:  1896\n",
            "Class 3:  5286\n"
          ],
          "name": "stdout"
        }
      ]
    },
    {
      "cell_type": "markdown",
      "metadata": {
        "id": "wziCy4hRsNQr"
      },
      "source": [
        "# Function to shuffle input data and labels in unison"
      ]
    },
    {
      "cell_type": "code",
      "metadata": {
        "id": "cg4wXYF69cHW"
      },
      "source": [
        "def shuffle_in_unison(a, b):\n",
        "    shuffled_a = np.empty(a.shape, dtype=a.dtype)\n",
        "    shuffled_b = np.empty(b.shape, dtype=b.dtype)\n",
        "    permutation = np.random.permutation(len(a))\n",
        "    for old_index, new_index in enumerate(permutation):\n",
        "        shuffled_a[new_index] = a[old_index]\n",
        "        shuffled_b[new_index] = b[old_index]\n",
        "    return shuffled_a, shuffled_b"
      ],
      "execution_count": null,
      "outputs": []
    },
    {
      "cell_type": "markdown",
      "metadata": {
        "id": "R7zqZAyeeTbr"
      },
      "source": [
        "# Sample Elimination (Class 0) for handling data imbalance and Splitting into Train and Validation Sets"
      ]
    },
    {
      "cell_type": "code",
      "metadata": {
        "id": "rp_uU0uviTt8",
        "outputId": "ae893dfe-77e8-4632-8456-b56055737672",
        "colab": {
          "base_uri": "https://localhost:8080/"
        }
      },
      "source": [
        "indices = np.argsort(trainY)\n",
        "sortedTrainX = trainX[indices]\n",
        "sortedTrainY = trainY[indices]\n",
        "\n",
        "countZero=np.count_nonzero(trainY == 0)\n",
        "# Eliminate every fourth sample with label 0\n",
        "clippedTrainX = sortedTrainX[0:countZero:4, :, :]\n",
        "clippedTrainY = sortedTrainY[0:countZero:4]\n",
        "\n",
        "finalTrainX = np.append(clippedTrainX[:,:,:], sortedTrainX[countZero: , :, :],axis=0)\n",
        "finalTrainY = np.append(clippedTrainY, sortedTrainY[countZero:])\n",
        "\n",
        "print(\"Class 0: \",np.count_nonzero(finalTrainY == 0))\n",
        "print(\"Class 1: \",np.count_nonzero(finalTrainY == 1))\n",
        "print(\"Class 2: \",np.count_nonzero(finalTrainY == 2))\n",
        "print(\"Class 3: \",np.count_nonzero(finalTrainY == 3))\n",
        "\n",
        "finalTrainX1, finalTrainY1=shuffle_in_unison(finalTrainX, finalTrainY)\n",
        "# SPLIT 75%-25% into Train and Val\n",
        "toSplit = finalTrainY1.size\n",
        "Xdata = (3*toSplit)//4\n",
        "X_train = finalTrainX1[:Xdata,:,:]\n",
        "X_val = finalTrainX1[Xdata:,:,:]\n",
        "Y_train = finalTrainY1[:Xdata]\n",
        "Y_val = finalTrainY1[Xdata:]\n",
        "# converting to one hot encoding\n",
        "Y_train = to_categorical(Y_train)\n",
        "Y_val = to_categorical(Y_val)"
      ],
      "execution_count": null,
      "outputs": [
        {
          "output_type": "stream",
          "text": [
            "Class 0:  6494\n",
            "Class 1:  1476\n",
            "Class 2:  1896\n",
            "Class 3:  5286\n"
          ],
          "name": "stdout"
        }
      ]
    },
    {
      "cell_type": "markdown",
      "metadata": {
        "id": "HK4C8mXooMYf"
      },
      "source": [
        "# Stacked LSTM network"
      ]
    },
    {
      "cell_type": "code",
      "metadata": {
        "id": "z6tYJtrPoHWf",
        "outputId": "4224fdff-faae-43e9-ec23-a74c53f54694",
        "colab": {
          "base_uri": "https://localhost:8080/"
        }
      },
      "source": [
        "model_LSTM = Sequential()\n",
        "############################################################\n",
        "#add LSTM layer\n",
        "model_LSTM.add(LSTM(128,activation='relu',return_sequences=True,input_shape=(frame_size,6)))\n",
        "#add dropout\n",
        "model_LSTM.add(Dropout(0.2))\n",
        "#add LSTM layer\n",
        "model_LSTM.add(LSTM(128,activation='relu'))\n",
        "#add dropout\n",
        "model_LSTM.add(Dropout(0.5))\n",
        "# #add dense layer\n",
        "model_LSTM.add(Dense(128,activation='relu'))\n",
        "model_LSTM.add(Dense(4,activation='softmax'))\n",
        "###########################################################\n",
        "\n",
        "model_LSTM.compile(loss='categorical_crossentropy', optimizer=Adam(learning_rate=0.0001), metrics=['accuracy'])\n",
        "model_LSTM.summary()\n",
        "\n",
        "history_LSTM = model_LSTM.fit(X_train, Y_train, epochs=17, validation_data=(X_val, Y_val),verbose=1)\n",
        "\n"
      ],
      "execution_count": null,
      "outputs": [
        {
          "output_type": "stream",
          "text": [
            "Model: \"sequential_8\"\n",
            "_________________________________________________________________\n",
            "Layer (type)                 Output Shape              Param #   \n",
            "=================================================================\n",
            "lstm_16 (LSTM)               (None, 36, 128)           69120     \n",
            "_________________________________________________________________\n",
            "dropout_16 (Dropout)         (None, 36, 128)           0         \n",
            "_________________________________________________________________\n",
            "lstm_17 (LSTM)               (None, 128)               131584    \n",
            "_________________________________________________________________\n",
            "dropout_17 (Dropout)         (None, 128)               0         \n",
            "_________________________________________________________________\n",
            "dense_16 (Dense)             (None, 128)               16512     \n",
            "_________________________________________________________________\n",
            "dense_17 (Dense)             (None, 4)                 516       \n",
            "=================================================================\n",
            "Total params: 217,732\n",
            "Trainable params: 217,732\n",
            "Non-trainable params: 0\n",
            "_________________________________________________________________\n",
            "Epoch 1/17\n",
            "356/356 [==============================] - 31s 88ms/step - loss: 1.1076 - accuracy: 0.4639 - val_loss: 0.7880 - val_accuracy: 0.6565\n",
            "Epoch 2/17\n",
            "356/356 [==============================] - 31s 87ms/step - loss: 0.7502 - accuracy: 0.6841 - val_loss: 0.5978 - val_accuracy: 0.7672\n",
            "Epoch 3/17\n",
            "356/356 [==============================] - 31s 86ms/step - loss: 0.5834 - accuracy: 0.7701 - val_loss: 0.4859 - val_accuracy: 0.8163\n",
            "Epoch 4/17\n",
            "356/356 [==============================] - 31s 86ms/step - loss: 0.5113 - accuracy: 0.8032 - val_loss: 0.4801 - val_accuracy: 0.8218\n",
            "Epoch 5/17\n",
            "356/356 [==============================] - 31s 87ms/step - loss: 0.4691 - accuracy: 0.8163 - val_loss: 0.4754 - val_accuracy: 0.8321\n",
            "Epoch 6/17\n",
            "356/356 [==============================] - 30s 86ms/step - loss: 0.4411 - accuracy: 0.8310 - val_loss: 0.4024 - val_accuracy: 0.8432\n",
            "Epoch 7/17\n",
            "356/356 [==============================] - 30s 85ms/step - loss: 0.4168 - accuracy: 0.8458 - val_loss: 0.4330 - val_accuracy: 0.8358\n",
            "Epoch 8/17\n",
            "356/356 [==============================] - 31s 86ms/step - loss: 0.4071 - accuracy: 0.8482 - val_loss: 0.3944 - val_accuracy: 0.8424\n",
            "Epoch 9/17\n",
            "356/356 [==============================] - 31s 87ms/step - loss: 0.3799 - accuracy: 0.8578 - val_loss: 0.3835 - val_accuracy: 0.8567\n",
            "Epoch 10/17\n",
            "356/356 [==============================] - 31s 87ms/step - loss: 0.3713 - accuracy: 0.8620 - val_loss: 0.3796 - val_accuracy: 0.8656\n",
            "Epoch 11/17\n",
            "356/356 [==============================] - 31s 86ms/step - loss: 0.3524 - accuracy: 0.8717 - val_loss: 0.3438 - val_accuracy: 0.8722\n",
            "Epoch 12/17\n",
            "356/356 [==============================] - 31s 86ms/step - loss: 0.3499 - accuracy: 0.8700 - val_loss: 0.4267 - val_accuracy: 0.8537\n",
            "Epoch 13/17\n",
            "356/356 [==============================] - 31s 86ms/step - loss: 0.3337 - accuracy: 0.8768 - val_loss: 0.3639 - val_accuracy: 0.8683\n",
            "Epoch 14/17\n",
            "356/356 [==============================] - 31s 86ms/step - loss: 0.3242 - accuracy: 0.8798 - val_loss: 0.3683 - val_accuracy: 0.8622\n",
            "Epoch 15/17\n",
            "356/356 [==============================] - 31s 87ms/step - loss: 0.3115 - accuracy: 0.8860 - val_loss: 0.3300 - val_accuracy: 0.8743\n",
            "Epoch 16/17\n",
            "356/356 [==============================] - 31s 86ms/step - loss: 0.3066 - accuracy: 0.8857 - val_loss: 0.3377 - val_accuracy: 0.8796\n",
            "Epoch 17/17\n",
            "356/356 [==============================] - 34s 96ms/step - loss: 0.3035 - accuracy: 0.8882 - val_loss: 0.3468 - val_accuracy: 0.8770\n"
          ],
          "name": "stdout"
        }
      ]
    },
    {
      "cell_type": "markdown",
      "metadata": {
        "id": "2jC4DjX3sUuV"
      },
      "source": [
        "# Dumping into files for submission on Gradescope using provided Test data \n"
      ]
    },
    {
      "cell_type": "code",
      "metadata": {
        "id": "7DzSX7p7sXdl"
      },
      "source": [
        "testX = np.zeros([0,6])\n",
        "lstx=os.listdir('/content/drive/My Drive/ECE542_fa20_Project_TerrainRecognition/TestData')\n",
        "lstx.sort()\n",
        "\n",
        "for subject in [\"009\", \"010\", \"011\", \"012\"]:\n",
        "  tempX = np.genfromtxt(\"/content/drive/My Drive/ECE542_fa20_Project_TerrainRecognition/TestData/subject_\" + subject + \"_01__x.csv\" , delimiter=',')\n",
        "  timeY = np.genfromtxt(\"/content/drive/My Drive/ECE542_fa20_Project_TerrainRecognition/TestData/subject_\" + subject + \"_01__y_time.csv\" , delimiter=',')\n",
        "  #################################################################################\n",
        "  tempX2=tempX[5:]\n",
        "  testX=np.empty((tempX2.shape[0]//frame_size,frame_size,6))\n",
        "  for i in range(0, len(tempX2)):\n",
        "    if(frame_size*i+frame_size<len(tempX2)):\n",
        "      testX[i] = tempX2[frame_size*i:frame_size*i+frame_size,:]\n",
        "  ################################################################################\n",
        "  tempPredY = model_LSTM.predict(testX)\n",
        "  tempPredY = np.argmax(tempPredY, axis=1)\n",
        "  \n",
        "  finalPredictedY = np.zeros(len(timeY))\n",
        "  finalPredictedY[:len(tempPredY)] = tempPredY[:]\n",
        "  ###############################################################################################\n",
        "  np.savetxt(\"/content/drive/My Drive/ECE542_test_outputs/subject_\" + subject + \"_01__y_prediction.csv\" , finalPredictedY, delimiter=\",\")\n",
        "  print(\"For subject \", subject , \" -> finalPredictedY: \", finalPredictedY.shape, \" timeY: \", timeY.shape)\n",
        "  \n",
        "\n"
      ],
      "execution_count": null,
      "outputs": []
    },
    {
      "cell_type": "markdown",
      "metadata": {
        "id": "XCZrUi4RO5ca"
      },
      "source": [
        "# Testing Script \n",
        "\n",
        "(using data from subject 7 and subject 8 hidden during training to calculate F1 score)"
      ]
    },
    {
      "cell_type": "code",
      "metadata": {
        "id": "iIBOu6tpPAM6",
        "outputId": "eaea9da7-2450-4ca1-f383-8fdca55303f0",
        "colab": {
          "base_uri": "https://localhost:8080/"
        }
      },
      "source": [
        "testX = np.zeros([0,6])\n",
        "\n",
        "for subject in [\"007\", \"008\"]:\n",
        "  tempX = np.genfromtxt(\"/content/drive/My Drive/ECE542_fa20_Project_TerrainRecognition/TrainingData/subject_\" + subject + \"_01__x.csv\" , delimiter=',')\n",
        "  trueY = np.genfromtxt(\"/content/drive/My Drive/ECE542_fa20_Project_TerrainRecognition/TrainingData/subject_\" + subject + \"_01__y.csv\" , delimiter=',')\n",
        "  #################################################################################\n",
        "  tempX2=tempX[5:]\n",
        "  testX=np.empty((tempX2.shape[0]//frame_size,frame_size,6))\n",
        "  for i in range(0, len(tempX2)):\n",
        "    if(frame_size*i+frame_size<len(tempX2)):\n",
        "      testX[i] = tempX2[frame_size*i:frame_size*i+frame_size,:]\n",
        "  tempPredY = model_LSTM.predict(testX)\n",
        "  tempPredY = np.argmax(tempPredY, axis=1)\n",
        "  \n",
        "  finalPredictedY = np.zeros(len(trueY))\n",
        "  finalPredictedY[2:len(tempPredY)] = tempPredY[2:]\n",
        "  print(\"For subject \", subject , \" -> finalPredictedY: \", finalPredictedY.shape, \" trueY: \", trueY.shape)\n",
        "\n",
        "  # get F1 score\n",
        "  scores = precision_recall_fscore_support(trueY, finalPredictedY, average='micro')\n",
        "  print(\"Precision: \", scores[0])\n",
        "  print(\"Recall: \", scores[1])\n",
        "  print(\"F1: \", scores[2])\n",
        "  print(\"-------------------------------------------------------------------\")\n",
        "  ###############################################################################################\n",
        "\n",
        "\n",
        "  \n",
        "\n"
      ],
      "execution_count": null,
      "outputs": [
        {
          "output_type": "stream",
          "text": [
            "For subject  007  -> finalPredictedY:  (11550,)  trueY:  (11550,)\n",
            "Precision:  0.6578354978354979\n",
            "Recall:  0.6578354978354979\n",
            "F1:  0.6578354978354979\n",
            "-------------------------------------------------------------------\n",
            "For subject  008  -> finalPredictedY:  (12035,)  trueY:  (12035,)\n",
            "Precision:  0.7766514333194848\n",
            "Recall:  0.7766514333194848\n",
            "F1:  0.7766514333194848\n",
            "-------------------------------------------------------------------\n"
          ],
          "name": "stdout"
        }
      ]
    },
    {
      "cell_type": "markdown",
      "metadata": {
        "id": "XFb04leyTHEt"
      },
      "source": [
        "# Generating Graphs\n",
        "1) Loss vs. Epochs\n",
        "\n",
        "2) Accuracy vs. Epochs\n"
      ]
    },
    {
      "cell_type": "code",
      "metadata": {
        "id": "U4ugH83kTKNH",
        "outputId": "739e15d2-2358-4dc2-fb10-24760db0f701",
        "colab": {
          "base_uri": "https://localhost:8080/",
          "height": 591
        }
      },
      "source": [
        "def plot_history(history):\n",
        "\t  # plot loss\n",
        "    plt.title('Loss')\n",
        "    plt.plot(history.history['loss'], color='blue', label='train')\n",
        "    plt.plot(history.history['val_loss'], color='red', label='test')\n",
        "    plt.ylabel('Loss')\n",
        "    plt.xlabel('Epoch')\n",
        "    plt.legend(['Train', 'Validation'])\n",
        "    plt.show()\n",
        "    \n",
        "    # plot accuracy\n",
        "    plt.title('Accuracy')\n",
        "    plt.plot(history.history['accuracy'], color='blue', label='train')\n",
        "    plt.plot(history.history['val_accuracy'], color='red', label='test')\n",
        "    plt.ylabel('Accuracy')\n",
        "    plt.xlabel('Epoch')\n",
        "    plt.legend(['Train', 'Validation'])\n",
        "    plt.show()\n",
        "\n",
        "print(\"Plotting LSTM history\")\n",
        "plot_history(history_LSTM)"
      ],
      "execution_count": null,
      "outputs": [
        {
          "output_type": "stream",
          "text": [
            "Plotting LSTM history\n"
          ],
          "name": "stdout"
        },
        {
          "output_type": "display_data",
          "data": {
            "image/png": "[encoded data removed]",
            "text/plain": [
              "<Figure size 432x288 with 1 Axes>"
            ]
          },
          "metadata": {
            "tags": [],
            "needs_background": "light"
          }
        },
        {
          "output_type": "display_data",
          "data": {
            "image/png": "[encoded data removed]",
            "text/plain": [
              "<Figure size 432x288 with 1 Axes>"
            ]
          },
          "metadata": {
            "tags": [],
            "needs_background": "light"
          }
        }
      ]
    }
  ]
}